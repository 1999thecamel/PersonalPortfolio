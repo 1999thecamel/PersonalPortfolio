{
 "cells": [
  {
   "cell_type": "markdown",
   "metadata": {},
   "source": [
    "## 代辦事項："
   ]
  },
  {
   "cell_type": "code",
   "execution_count": null,
   "metadata": {},
   "outputs": [],
   "source": [
    "# 導入模塊\n",
    "import pandas as pd\n",
    "import matplotlib.pyplot as plt\n",
    "%matplotlib inline\n",
    "import numpy as np \n",
    "import sqlite3\n",
    "import sys\n",
    "import datetime\n",
    "import math\n",
    "sys.path.append('..')\n",
    "# silence warnings\n",
    "import warnings\n",
    "warnings.filterwarnings('ignore')\n",
    "import seaborn as sns\n",
    "# sns.set(font='Taipei Sans TC Beta')\n",
    "\n",
    "# 自定義模塊\n",
    "import util.swingTrade as st"
   ]
  },
  {
   "cell_type": "code",
   "execution_count": null,
   "metadata": {},
   "outputs": [],
   "source": [
    "pd.set_option('display.max_columns', 50)\n",
    "# pd.set_option('display.max_rows', 150)"
   ]
  },
  {
   "cell_type": "markdown",
   "metadata": {},
   "source": [
    "# 要導入的資料"
   ]
  },
  {
   "cell_type": "code",
   "execution_count": null,
   "metadata": {},
   "outputs": [],
   "source": [
    "df = st.getFullData(startDate='2015-01-01', columns=['成交值(千元)', '流通在外股數(千股)'])"
   ]
  },
  {
   "cell_type": "code",
   "execution_count": null,
   "metadata": {},
   "outputs": [],
   "source": [
    "mylist = []\n",
    "for chunk in  pd.read_csv(f'{st.getRootPath()}/大型資料/前15大買賣超.csv', chunksize=200000):\n",
    "    mylist.append(chunk)\n",
    "df_15 = pd.concat(mylist, axis= 0)\n",
    "del mylist"
   ]
  },
  {
   "cell_type": "code",
   "execution_count": null,
   "metadata": {},
   "outputs": [],
   "source": [
    "df_15 =  df_15.sort_index(level=1).sort_values(by=['年月日', '證券代碼', '前排序'])                                        \n",
    "df_15 = df_15.set_index(['年月日', '證券代碼'])\n",
    "df_15"
   ]
  },
  {
   "cell_type": "code",
   "execution_count": null,
   "metadata": {},
   "outputs": [],
   "source": [
    "df_15 = df_15[df_15['券商名稱'] == '台灣摩根士丹利']\n",
    "df_15"
   ]
  },
  {
   "cell_type": "markdown",
   "metadata": {},
   "source": [
    "# 大戶分點\n",
    "凱基-台北\n",
    "統一-城中\n",
    "凱基-城中\n",
    "富邦-嘉義\n",
    "元大-土城永寧\n",
    "永豐金-信義\n",
    "凱基-信義\n",
    "國票-安和\n",
    "凱基-市政\n",
    "統一-南京\n",
    "群益金鼎-台北\n",
    "群益金鼎\n",
    "元富-延平\n",
    "凱基-大安"
   ]
  },
  {
   "cell_type": "markdown",
   "metadata": {},
   "source": [
    "# 處理未導入條件"
   ]
  },
  {
   "cell_type": "markdown",
   "metadata": {},
   "source": [
    "## 價量"
   ]
  },
  {
   "cell_type": "code",
   "execution_count": null,
   "metadata": {},
   "outputs": [],
   "source": [
    "\n",
    "try:\n",
    "    df['K棒收點'] = (df['收盤價(元)'] - df['最低價(元)']) / (df['最高價(元)'] - df['最低價(元)'])\n",
    "    df['開盤價(元)'] = df['開盤價(元)'][df['開盤價(元)'] != 'N.A.']\n",
    "    df['本益比-TEJ'] = df['本益比-TEJ'][df['本益比-TEJ'] != 'N.A.']\n",
    "    df['開盤價(元)'] = pd.to_numeric(df['開盤價(元)'])\n",
    "    df['本益比-TEJ'] = pd.to_numeric(df['本益比-TEJ'])\n",
    "    df['年月日'] = pd.to_datetime(df['年月日'] )\n",
    "    df['當沖收益'] = ((df['收盤價(元)'] - df['開盤價(元)']) / df['收盤價(元)'])\n",
    "    df = df.set_index(['年月日', '證券代碼'])\n",
    "    df['漲跌幅'] = df.groupby('證券代碼')['收盤價(元)'].pct_change() * 100\n",
    "    df['開收比'] = (df['收盤價(元)'] - df['開盤價(元)']) / df['開盤價(元)'] * 100\n",
    "    df['成交值等級'] = df.groupby('年月日')['成交值(千元)'].rank(ascending=False)\n",
    "    df = df[~df.index.duplicated()]\n",
    "except Exception as e :\n",
    "    print(e)\n",
    "\n",
    "df"
   ]
  },
  {
   "cell_type": "code",
   "execution_count": null,
   "metadata": {},
   "outputs": [],
   "source": [
    "pd.merge(df, df_15, on=['年月日', '證券代碼'], how='left')"
   ]
  },
  {
   "cell_type": "code",
   "execution_count": null,
   "metadata": {},
   "outputs": [],
   "source": []
  },
  {
   "cell_type": "code",
   "execution_count": null,
   "metadata": {},
   "outputs": [],
   "source": []
  },
  {
   "cell_type": "code",
   "execution_count": null,
   "metadata": {},
   "outputs": [],
   "source": []
  },
  {
   "cell_type": "code",
   "execution_count": null,
   "metadata": {},
   "outputs": [],
   "source": []
  },
  {
   "cell_type": "code",
   "execution_count": null,
   "metadata": {},
   "outputs": [],
   "source": []
  },
  {
   "cell_type": "code",
   "execution_count": null,
   "metadata": {},
   "outputs": [],
   "source": []
  },
  {
   "cell_type": "code",
   "execution_count": null,
   "metadata": {},
   "outputs": [],
   "source": []
  },
  {
   "cell_type": "code",
   "execution_count": null,
   "metadata": {},
   "outputs": [],
   "source": [
    "trade_position = df.pivot_table(index='年月日', columns='證券代碼', values='開盤價(元)')\n",
    "trade_position = df.pivot_table(index='年月日', columns='證券代碼', values='收盤價(元)')"
   ]
  },
  {
   "cell_type": "code",
   "execution_count": null,
   "metadata": {},
   "outputs": [],
   "source": [
    "%%time\n",
    "# 10張以下占比變化\t400以上占比變化\t\n",
    "df['放在最後用'] = 1\n",
    "strategy_map = {\n",
    "  '進場': (\n",
    "    # (df.index.get_level_values(1) == '3035 智原') &\n",
    "    (df.groupby('證券代碼')['是否有波段驅使之融資'].shift(1) == 1) &\n",
    "    (df.groupby('證券代碼')['融資是否落底'].shift(1) == 1) &\n",
    "    # ((df['開盤價(元)'] - df.groupby('證券代碼')['收盤價(元)'].shift(6)) / df.groupby('證券代碼')['收盤價(元)'].shift(6) < 0.1 ) &\n",
    "    # (df['成交值(千元)'] >= 600000) &\n",
    "    (df['放在最後用'] == 1)\n",
    "  ),\n",
    "  '出場': (\n",
    "    (df.groupby('證券代碼')['是否有波段驅使之融資'].shift(4) == 1) &\n",
    "    (df.groupby('證券代碼')['融資是否落底'].shift(4) == 1) &\n",
    "    # (df.groupby('證券代碼')['融資是否回升'].shift(1) == 1) or\n",
    "    # (df.groupby('證券代碼')['是否有波段驅使之融資'].shift(10) == 1 & df.groupby('證券代碼')['融資是否落底'].shift(10) == 1) |\n",
    "    # ((df['收盤價(元)'] - df.groupby('證券代碼')['收盤價(元)'].shift(5)) / df.groupby('證券代碼')['收盤價(元)'].shift(5) < -0.1 ) &\n",
    "    (df['放在最後用'] == 1)\n",
    "  )\n",
    "}"
   ]
  },
  {
   "cell_type": "code",
   "execution_count": null,
   "metadata": {},
   "outputs": [],
   "source": [
    "%%time\n",
    "import importlib\n",
    "%load_ext autoreload\n",
    "%autoreload 2\n",
    "importlib.reload(st)\n",
    "\n",
    "backtest = st.Backtest(df[['開盤價(元)', '最高價(元)', '最低價(元)', '收盤價(元)']], trade_position=trade_position,  stockCash=500000)\n",
    "report = backtest.run(strategy_map)\n",
    "# profit = backtest.run(strategy_map)\n",
    "# report = backtest.getDetailInfo(strategy_map)\n",
    "profit = backtest.profit"
   ]
  },
  {
   "cell_type": "code",
   "execution_count": null,
   "metadata": {},
   "outputs": [],
   "source": [
    "%%time\n",
    "df_stock = backtest.read_stock()\n",
    "df_stock"
   ]
  },
  {
   "cell_type": "code",
   "execution_count": null,
   "metadata": {},
   "outputs": [],
   "source": [
    "# %%time\n",
    "\n",
    "# df['放在最後用'] = 1\n",
    "# strategy_map = {\n",
    "#   '進場': (\n",
    "#     (df.index.get_level_values(1) == '3035 智原') &\n",
    "#     (df.groupby('證券代碼')['是否有波段驅使之融資'].shift(1) == 1) &\n",
    "#     (df.groupby('證券代碼')['融資是否落底'].shift(1) == 1) &\n",
    "#     (df['放在最後用'] == 1)\n",
    "#   ),\n",
    "#   '出場': (\n",
    "#     (df.groupby('證券代碼')['是否有波段驅使之融資'].shift(6) == 1) &\n",
    "#     (df.groupby('證券代碼')['融資是否落底'].shift(6) == 1) &\n",
    "#     (df['放在最後用'] == 1)\n",
    "#   )\n",
    "# }"
   ]
  },
  {
   "cell_type": "code",
   "execution_count": null,
   "metadata": {},
   "outputs": [],
   "source": [
    "backtest.df_position"
   ]
  },
  {
   "cell_type": "code",
   "execution_count": null,
   "metadata": {},
   "outputs": [],
   "source": [
    "%%time\n",
    "import importlib\n",
    "%load_ext autoreload\n",
    "%autoreload 2\n",
    "importlib.reload(st)\n",
    "\n",
    "backtest = st.Backtest(df[['開盤價(元)', '最高價(元)', '最低價(元)', '收盤價(元)']], trade_position=trade_position,  stockCash=500000)\n",
    "report = backtest.run(strategy_map)\n",
    "# profit = backtest.run(strategy_map)\n",
    "# report = backtest.getDetailInfo(strategy_map)\n",
    "profit = backtest.profit"
   ]
  },
  {
   "cell_type": "code",
   "execution_count": null,
   "metadata": {},
   "outputs": [],
   "source": [
    "%%time\n",
    "df_stock = backtest.read_stock()\n",
    "df_stock"
   ]
  },
  {
   "cell_type": "code",
   "execution_count": null,
   "metadata": {},
   "outputs": [],
   "source": []
  },
  {
   "cell_type": "code",
   "execution_count": null,
   "metadata": {},
   "outputs": [],
   "source": []
  }
 ],
 "metadata": {
  "interpreter": {
   "hash": "24e482b46a83f7d3a4e3552a6189993ba4cab7e472074ec84243915955030816"
  },
  "kernelspec": {
   "display_name": "Python 3.7.8 64-bit",
   "name": "python3"
  },
  "language_info": {
   "codemirror_mode": {
    "name": "ipython",
    "version": 3
   },
   "file_extension": ".py",
   "mimetype": "text/x-python",
   "name": "python",
   "nbconvert_exporter": "python",
   "pygments_lexer": "ipython3",
   "version": "3.9.10"
  },
  "metadata": {
   "interpreter": {
    "hash": "bf6c5270fc70c8ede467d3717ef8e551d6c090d38684922baeafb3fae0230b63"
   }
  },
  "orig_nbformat": 2
 },
 "nbformat": 4,
 "nbformat_minor": 2
}
